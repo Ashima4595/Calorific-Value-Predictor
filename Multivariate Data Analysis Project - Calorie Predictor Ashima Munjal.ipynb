{
  "cells": [
    {
      "cell_type": "markdown",
      "source": [
        "## Multivariate Data Analysis Project\n",
        "### Predict Calorie Value\n",
        "### Ashima Munjal - amunjal@stevens.edu - 10455515"
      ],
      "metadata": {}
    },
    {
      "cell_type": "markdown",
      "source": [
        "#### Loading Dependencies."
      ],
      "metadata": {}
    },
    {
      "cell_type": "code",
      "source": [
        "# Data Processing Libraries.\n",
        "import pandas as pd\n",
        "\n",
        "# Machine Learning Libraries.\n",
        "import numpy as np\n",
        "import statsmodels.api as sm\n",
        "from sklearn.linear_model import LassoLarsIC, LassoCV\n",
        "from sklearn.preprocessing import MinMaxScaler \n",
        "from sklearn.pipeline import Pipeline\n",
        "from sklearn.ensemble import RandomForestClassifier\n",
        "\n",
        "# Evaluation Libraries.\n",
        "from sklearn.metrics import confusion_matrix, classification_report\n",
        "from sklearn import metrics\n",
        "\n",
        "# Visualization Libraries.\n",
        "import seaborn as sns\n",
        "import matplotlib\n",
        "import matplotlib.pyplot as plt\n",
        "%matplotlib inline"
      ],
      "outputs": [],
      "execution_count": 1,
      "metadata": {}
    },
    {
      "cell_type": "markdown",
      "source": [
        "#### Loading data."
      ],
      "metadata": {}
    },
    {
      "cell_type": "code",
      "source": [
        "food_data = pd.read_excel(\"Food_Display_Table.xlsx\")\n",
        "print(\"Variables in the data:\",\n",
        "      \"\\n\", list(food_data.columns))"
      ],
      "outputs": [
        {
          "output_type": "stream",
          "name": "stdout",
          "text": [
            "Variables in the data: \n",
            " ['Food_Code', 'Display_Name', 'Portion_Default', 'Portion_Amount', 'Portion_Display_Name', 'Factor', 'Increment', 'Multiplier', 'Grains', 'Whole_Grains', 'Vegetables', 'Orange_Vegetables', 'Drkgreen_Vegetables', 'Starchy_vegetables', 'Other_Vegetables', 'Fruits', 'Milk', 'Meats', 'Soy', 'Drybeans_Peas', 'Oils', 'Solid_Fats', 'Added_Sugars', 'Alcohol', 'Calories', 'Saturated_Fats']\n"
          ]
        }
      ],
      "execution_count": 2,
      "metadata": {}
    },
    {
      "cell_type": "markdown",
      "source": [
        "#### Visualizing dataset."
      ],
      "metadata": {}
    },
    {
      "cell_type": "code",
      "source": [
        "print(food_data.shape)\n",
        "food_data.head()"
      ],
      "outputs": [
        {
          "output_type": "stream",
          "name": "stdout",
          "text": [
            "(2014, 26)\n"
          ]
        },
        {
          "output_type": "execute_result",
          "execution_count": 3,
          "data": {
            "text/html": [
              "<div>\n",
              "<style scoped>\n",
              "    .dataframe tbody tr th:only-of-type {\n",
              "        vertical-align: middle;\n",
              "    }\n",
              "\n",
              "    .dataframe tbody tr th {\n",
              "        vertical-align: top;\n",
              "    }\n",
              "\n",
              "    .dataframe thead th {\n",
              "        text-align: right;\n",
              "    }\n",
              "</style>\n",
              "<table border=\"1\" class=\"dataframe\">\n",
              "  <thead>\n",
              "    <tr style=\"text-align: right;\">\n",
              "      <th></th>\n",
              "      <th>Food_Code</th>\n",
              "      <th>Display_Name</th>\n",
              "      <th>Portion_Default</th>\n",
              "      <th>Portion_Amount</th>\n",
              "      <th>Portion_Display_Name</th>\n",
              "      <th>Factor</th>\n",
              "      <th>Increment</th>\n",
              "      <th>Multiplier</th>\n",
              "      <th>Grains</th>\n",
              "      <th>Whole_Grains</th>\n",
              "      <th>...</th>\n",
              "      <th>Milk</th>\n",
              "      <th>Meats</th>\n",
              "      <th>Soy</th>\n",
              "      <th>Drybeans_Peas</th>\n",
              "      <th>Oils</th>\n",
              "      <th>Solid_Fats</th>\n",
              "      <th>Added_Sugars</th>\n",
              "      <th>Alcohol</th>\n",
              "      <th>Calories</th>\n",
              "      <th>Saturated_Fats</th>\n",
              "    </tr>\n",
              "  </thead>\n",
              "  <tbody>\n",
              "    <tr>\n",
              "      <th>0</th>\n",
              "      <td>12350000</td>\n",
              "      <td>Sour cream dip</td>\n",
              "      <td>1</td>\n",
              "      <td>0.25</td>\n",
              "      <td>cup</td>\n",
              "      <td>0.25</td>\n",
              "      <td>0.25</td>\n",
              "      <td>1.00</td>\n",
              "      <td>0.04799</td>\n",
              "      <td>0.0</td>\n",
              "      <td>...</td>\n",
              "      <td>0.00000</td>\n",
              "      <td>0.0000</td>\n",
              "      <td>0.0</td>\n",
              "      <td>0.0</td>\n",
              "      <td>0.0</td>\n",
              "      <td>105.64850</td>\n",
              "      <td>1.57001</td>\n",
              "      <td>0.0</td>\n",
              "      <td>133.65</td>\n",
              "      <td>7.36898</td>\n",
              "    </tr>\n",
              "    <tr>\n",
              "      <th>1</th>\n",
              "      <td>13110100</td>\n",
              "      <td>Ice cream, regular</td>\n",
              "      <td>1</td>\n",
              "      <td>1.00</td>\n",
              "      <td>cup</td>\n",
              "      <td>1.00</td>\n",
              "      <td>0.25</td>\n",
              "      <td>0.25</td>\n",
              "      <td>0.00000</td>\n",
              "      <td>0.0</td>\n",
              "      <td>...</td>\n",
              "      <td>0.29393</td>\n",
              "      <td>0.0000</td>\n",
              "      <td>0.0</td>\n",
              "      <td>0.0</td>\n",
              "      <td>0.0</td>\n",
              "      <td>130.99968</td>\n",
              "      <td>95.20488</td>\n",
              "      <td>0.0</td>\n",
              "      <td>267.33</td>\n",
              "      <td>9.03070</td>\n",
              "    </tr>\n",
              "    <tr>\n",
              "      <th>2</th>\n",
              "      <td>13110120</td>\n",
              "      <td>Ice cream, rich</td>\n",
              "      <td>1</td>\n",
              "      <td>1.00</td>\n",
              "      <td>cup</td>\n",
              "      <td>1.00</td>\n",
              "      <td>0.25</td>\n",
              "      <td>0.25</td>\n",
              "      <td>0.00000</td>\n",
              "      <td>0.0</td>\n",
              "      <td>...</td>\n",
              "      <td>0.25160</td>\n",
              "      <td>0.0962</td>\n",
              "      <td>0.0</td>\n",
              "      <td>0.0</td>\n",
              "      <td>0.0</td>\n",
              "      <td>213.06672</td>\n",
              "      <td>96.10340</td>\n",
              "      <td>0.0</td>\n",
              "      <td>368.52</td>\n",
              "      <td>15.28840</td>\n",
              "    </tr>\n",
              "    <tr>\n",
              "      <th>3</th>\n",
              "      <td>13110200</td>\n",
              "      <td>Soft serve ice cream</td>\n",
              "      <td>1</td>\n",
              "      <td>1.00</td>\n",
              "      <td>cup</td>\n",
              "      <td>1.00</td>\n",
              "      <td>0.25</td>\n",
              "      <td>0.25</td>\n",
              "      <td>0.00000</td>\n",
              "      <td>0.0</td>\n",
              "      <td>...</td>\n",
              "      <td>0.38233</td>\n",
              "      <td>0.0000</td>\n",
              "      <td>0.0</td>\n",
              "      <td>0.0</td>\n",
              "      <td>0.0</td>\n",
              "      <td>170.39808</td>\n",
              "      <td>123.83793</td>\n",
              "      <td>0.0</td>\n",
              "      <td>347.73</td>\n",
              "      <td>11.74670</td>\n",
              "    </tr>\n",
              "    <tr>\n",
              "      <th>4</th>\n",
              "      <td>13120100</td>\n",
              "      <td>Ice cream bar, chocolate covered</td>\n",
              "      <td>1</td>\n",
              "      <td>1.00</td>\n",
              "      <td>bar (bar = 3 fl oz)</td>\n",
              "      <td>1.00</td>\n",
              "      <td>0.50</td>\n",
              "      <td>0.50</td>\n",
              "      <td>0.00000</td>\n",
              "      <td>0.0</td>\n",
              "      <td>...</td>\n",
              "      <td>0.09744</td>\n",
              "      <td>0.0000</td>\n",
              "      <td>0.0</td>\n",
              "      <td>0.0</td>\n",
              "      <td>0.0</td>\n",
              "      <td>112.32144</td>\n",
              "      <td>45.54761</td>\n",
              "      <td>0.0</td>\n",
              "      <td>169.12</td>\n",
              "      <td>9.58720</td>\n",
              "    </tr>\n",
              "  </tbody>\n",
              "</table>\n",
              "<p>5 rows × 26 columns</p>\n",
              "</div>"
            ],
            "text/plain": [
              "   Food_Code                      Display_Name  Portion_Default  \\\n",
              "0   12350000                    Sour cream dip                1   \n",
              "1   13110100                Ice cream, regular                1   \n",
              "2   13110120                   Ice cream, rich                1   \n",
              "3   13110200              Soft serve ice cream                1   \n",
              "4   13120100  Ice cream bar, chocolate covered                1   \n",
              "\n",
              "   Portion_Amount Portion_Display_Name  Factor  Increment  Multiplier  \\\n",
              "0            0.25                  cup    0.25       0.25        1.00   \n",
              "1            1.00                  cup    1.00       0.25        0.25   \n",
              "2            1.00                  cup    1.00       0.25        0.25   \n",
              "3            1.00                  cup    1.00       0.25        0.25   \n",
              "4            1.00  bar (bar = 3 fl oz)    1.00       0.50        0.50   \n",
              "\n",
              "    Grains  Whole_Grains  ...     Milk   Meats  Soy  Drybeans_Peas  Oils  \\\n",
              "0  0.04799           0.0  ...  0.00000  0.0000  0.0            0.0   0.0   \n",
              "1  0.00000           0.0  ...  0.29393  0.0000  0.0            0.0   0.0   \n",
              "2  0.00000           0.0  ...  0.25160  0.0962  0.0            0.0   0.0   \n",
              "3  0.00000           0.0  ...  0.38233  0.0000  0.0            0.0   0.0   \n",
              "4  0.00000           0.0  ...  0.09744  0.0000  0.0            0.0   0.0   \n",
              "\n",
              "   Solid_Fats  Added_Sugars  Alcohol  Calories  Saturated_Fats  \n",
              "0   105.64850       1.57001      0.0    133.65         7.36898  \n",
              "1   130.99968      95.20488      0.0    267.33         9.03070  \n",
              "2   213.06672      96.10340      0.0    368.52        15.28840  \n",
              "3   170.39808     123.83793      0.0    347.73        11.74670  \n",
              "4   112.32144      45.54761      0.0    169.12         9.58720  \n",
              "\n",
              "[5 rows x 26 columns]"
            ]
          },
          "metadata": {}
        }
      ],
      "execution_count": 3,
      "metadata": {}
    },
    {
      "cell_type": "markdown",
      "source": [
        "### Exploratory Data Analysis."
      ],
      "metadata": {}
    },
    {
      "cell_type": "markdown",
      "source": [
        "#### Observing distribution of Target Variable(Calorie) in the data."
      ],
      "metadata": {}
    },
    {
      "cell_type": "code",
      "source": [
        "max_cal = np.max(food_data[\"Calories\"].values)\n",
        "min_cal = np.min(food_data[\"Calories\"].values)\n",
        "\n",
        "frequency, bins = np.histogram(food_data[\"Calories\"].values, bins=20, range=[min_cal, max_cal])\n",
        "print(\"Calorie bins:\",\n",
        "     \"\\n\",bins)"
      ],
      "outputs": [
        {
          "output_type": "stream",
          "name": "stdout",
          "text": [
            "Calorie bins: \n",
            " [   0.     83.37  166.74  250.11  333.48  416.85  500.22  583.59  666.96\n",
            "  750.33  833.7   917.07 1000.44 1083.81 1167.18 1250.55 1333.92 1417.29\n",
            " 1500.66 1584.03 1667.4 ]\n"
          ]
        }
      ],
      "execution_count": 4,
      "metadata": {}
    },
    {
      "cell_type": "code",
      "source": [
        "plt.rcParams.update({'figure.figsize':(8,6), 'figure.dpi':100})\n",
        "\n",
        "# Plot Histogram of Calorie Distribution in the data.\n",
        "plt.hist(food_data[\"Calories\"].values, bins=bins)\n",
        "plt.gca().set(title='Distribution of food calorific value in data.', xlabel=\"Calorific Value\", ylabel='Frequency');\n"
      ],
      "outputs": [
        {
          "output_type": "display_data",
          "data": {
            "image/png": "[encoded data removed]",
            "text/plain": [
              "<Figure size 800x600 with 1 Axes>"
            ]
          },
          "metadata": {
            "needs_background": "light"
          }
        }
      ],
      "execution_count": 5,
      "metadata": {}
    },
    {
      "cell_type": "markdown",
      "source": [
        "#### Binning target variable using Equal-Width binning."
      ],
      "metadata": {}
    },
    {
      "cell_type": "code",
      "source": [
        "max_cal = np.max(food_data[\"Calories\"].values)\n",
        "min_cal = np.min(food_data[\"Calories\"].values)\n",
        "number_of_bins = 4\n",
        "bin_size = (max_cal - min_cal)/number_of_bins\n",
        "print(\"Bin size used for making categories:\", bin_size)"
      ],
      "outputs": [
        {
          "output_type": "stream",
          "name": "stdout",
          "text": [
            "Bin size used for making categories: 416.85\n"
          ]
        }
      ],
      "execution_count": 6,
      "metadata": {}
    },
    {
      "cell_type": "markdown",
      "source": [
        "#### Creating Categorical Variable."
      ],
      "metadata": {}
    },
    {
      "cell_type": "code",
      "source": [
        "range_ = [0]\n",
        "for ele in range(number_of_bins-1):\n",
        "    range_.append(range_[ele] + bin_size)"
      ],
      "outputs": [],
      "execution_count": 7,
      "metadata": {}
    },
    {
      "cell_type": "code",
      "source": [
        "calorie_category = []\n",
        "for ele in food_data[\"Calories\"].values:\n",
        "    if ele > range_[0] and ele < range_[1]:\n",
        "        calorie_category.append([\"Very Low\"])\n",
        "    elif ele > range_[1] and ele < range_[2]:\n",
        "        calorie_category.append([\"Low\"])\n",
        "    elif ele > range_[2] and ele < range_[3]:\n",
        "        calorie_category.append([\"High\"])\n",
        "    else:\n",
        "        calorie_category.append([\"Very High\"])\n",
        "calorie_category = [ele[0]for ele in calorie_category]"
      ],
      "outputs": [],
      "execution_count": 8,
      "metadata": {}
    },
    {
      "cell_type": "code",
      "source": [
        "pd.Series(calorie_category).value_counts()"
      ],
      "outputs": [
        {
          "output_type": "execute_result",
          "execution_count": 9,
          "data": {
            "text/plain": [
              "Very Low     1899\n",
              "Low           106\n",
              "Very High       6\n",
              "High            3\n",
              "dtype: int64"
            ]
          },
          "metadata": {}
        }
      ],
      "execution_count": 9,
      "metadata": {}
    },
    {
      "cell_type": "code",
      "source": [
        "cal_dist = pd.Series(calorie_category).value_counts().plot(kind=\"bar\",title='Calorie Category Distribution')\n",
        "cal_dist.set_xlabel(\"Calorie Category\")\n",
        "cal_dist.set_ylabel(\"Frequency\")\n",
        "for p in cal_dist.patches:\n",
        "    cal_dist.annotate(str(p.get_height()), (p.get_x()*1.1, p.get_height()*1.01));"
      ],
      "outputs": [
        {
          "output_type": "display_data",
          "data": {
            "image/png": "[encoded data removed]",
            "text/plain": [
              "<Figure size 800x600 with 1 Axes>"
            ]
          },
          "metadata": {
            "needs_background": "light"
          }
        }
      ],
      "execution_count": 10,
      "metadata": {}
    },
    {
      "cell_type": "markdown",
      "source": [
        "#### Creating categories based on accepted measures for calorie distribution.\n",
        "- Low Calorie = Calorie < 40\n",
        "- Medium Calorie = 40 > Calorie < 100\n",
        "- High Calorie = Calorie > 100"
      ],
      "metadata": {}
    },
    {
      "cell_type": "code",
      "source": [
        "range_ = [0, 40, 100]\n",
        "calorie_category = []\n",
        "for ele in food_data[\"Calories\"].values:\n",
        "    if ele > range_[0] and ele < range_[1]:\n",
        "        calorie_category.append([\"Low\"])\n",
        "    elif ele > range_[1] and ele < range_[2]:\n",
        "        calorie_category.append([\"Medium\"])\n",
        "    else:\n",
        "        calorie_category.append([\"High\"])\n",
        "calorie_category = [ele[0]for ele in calorie_category]"
      ],
      "outputs": [],
      "execution_count": 11,
      "metadata": {}
    },
    {
      "cell_type": "code",
      "source": [
        "pd.Series(calorie_category).value_counts()"
      ],
      "outputs": [
        {
          "output_type": "execute_result",
          "execution_count": 12,
          "data": {
            "text/plain": [
              "High      1140\n",
              "Medium     507\n",
              "Low        367\n",
              "dtype: int64"
            ]
          },
          "metadata": {}
        }
      ],
      "execution_count": 12,
      "metadata": {}
    },
    {
      "cell_type": "code",
      "source": [
        "cal_dist = pd.Series(calorie_category).value_counts().plot(kind=\"bar\",title='Calorie Category Distribution')\n",
        "cal_dist.set_xlabel(\"Calorie Category\")\n",
        "cal_dist.set_ylabel(\"Frequency\")\n",
        "for p in cal_dist.patches:\n",
        "    cal_dist.annotate(str(p.get_height()), (p.get_x()*1.1, p.get_height()*1.01));"
      ],
      "outputs": [
        {
          "output_type": "display_data",
          "data": {
            "image/png": "[encoded data removed]",
            "text/plain": [
              "<Figure size 800x600 with 1 Axes>"
            ]
          },
          "metadata": {
            "needs_background": "light"
          }
        }
      ],
      "execution_count": 13,
      "metadata": {}
    },
    {
      "cell_type": "markdown",
      "source": [
        "#### Verifying data Integrity."
      ],
      "metadata": {}
    },
    {
      "cell_type": "code",
      "source": [
        "assert len(calorie_category)==len(food_data[\"Calories\"].values)"
      ],
      "outputs": [],
      "execution_count": 14,
      "metadata": {}
    },
    {
      "cell_type": "markdown",
      "source": [
        "#### Analysis -\n",
        "#### From the graphs above we can observe that using a mathematical approach(Equal-Width Binning) to decide bin value could make the data very skewed. However, when we created bins based on the most common boundaries set by professionals in the field, we could make a very even distribution."
      ],
      "metadata": {}
    },
    {
      "cell_type": "markdown",
      "source": [
        "#### Correlation Map."
      ],
      "metadata": {}
    },
    {
      "cell_type": "code",
      "source": [
        "id_cols = [\"Food_Code\", \"Display_Name\", \"Portion_Display_Name\"]\n",
        "similar_cols = [\"Portion_Amount\", \"Factor\",\n",
        "                \"Increment\", \"Multiplier\",\n",
        "                \"Portion_Default\"]\n",
        "drp_cols = id_cols + similar_cols"
      ],
      "outputs": [],
      "execution_count": 15,
      "metadata": {}
    },
    {
      "cell_type": "code",
      "source": [
        "ml_pipeline_data = food_data.drop(drp_cols, axis=1)\n",
        "print(ml_pipeline_data.shape)\n",
        "ml_pipeline_data.head()"
      ],
      "outputs": [
        {
          "output_type": "stream",
          "name": "stdout",
          "text": [
            "(2014, 18)\n"
          ]
        },
        {
          "output_type": "execute_result",
          "execution_count": 16,
          "data": {
            "text/html": [
              "<div>\n",
              "<style scoped>\n",
              "    .dataframe tbody tr th:only-of-type {\n",
              "        vertical-align: middle;\n",
              "    }\n",
              "\n",
              "    .dataframe tbody tr th {\n",
              "        vertical-align: top;\n",
              "    }\n",
              "\n",
              "    .dataframe thead th {\n",
              "        text-align: right;\n",
              "    }\n",
              "</style>\n",
              "<table border=\"1\" class=\"dataframe\">\n",
              "  <thead>\n",
              "    <tr style=\"text-align: right;\">\n",
              "      <th></th>\n",
              "      <th>Grains</th>\n",
              "      <th>Whole_Grains</th>\n",
              "      <th>Vegetables</th>\n",
              "      <th>Orange_Vegetables</th>\n",
              "      <th>Drkgreen_Vegetables</th>\n",
              "      <th>Starchy_vegetables</th>\n",
              "      <th>Other_Vegetables</th>\n",
              "      <th>Fruits</th>\n",
              "      <th>Milk</th>\n",
              "      <th>Meats</th>\n",
              "      <th>Soy</th>\n",
              "      <th>Drybeans_Peas</th>\n",
              "      <th>Oils</th>\n",
              "      <th>Solid_Fats</th>\n",
              "      <th>Added_Sugars</th>\n",
              "      <th>Alcohol</th>\n",
              "      <th>Calories</th>\n",
              "      <th>Saturated_Fats</th>\n",
              "    </tr>\n",
              "  </thead>\n",
              "  <tbody>\n",
              "    <tr>\n",
              "      <th>0</th>\n",
              "      <td>0.04799</td>\n",
              "      <td>0.0</td>\n",
              "      <td>0.0407</td>\n",
              "      <td>0.0</td>\n",
              "      <td>0.0</td>\n",
              "      <td>0.0</td>\n",
              "      <td>0.0407</td>\n",
              "      <td>0.0</td>\n",
              "      <td>0.00000</td>\n",
              "      <td>0.0000</td>\n",
              "      <td>0.0</td>\n",
              "      <td>0.0</td>\n",
              "      <td>0.0</td>\n",
              "      <td>105.64850</td>\n",
              "      <td>1.57001</td>\n",
              "      <td>0.0</td>\n",
              "      <td>133.65</td>\n",
              "      <td>7.36898</td>\n",
              "    </tr>\n",
              "    <tr>\n",
              "      <th>1</th>\n",
              "      <td>0.00000</td>\n",
              "      <td>0.0</td>\n",
              "      <td>0.0000</td>\n",
              "      <td>0.0</td>\n",
              "      <td>0.0</td>\n",
              "      <td>0.0</td>\n",
              "      <td>0.0000</td>\n",
              "      <td>0.0</td>\n",
              "      <td>0.29393</td>\n",
              "      <td>0.0000</td>\n",
              "      <td>0.0</td>\n",
              "      <td>0.0</td>\n",
              "      <td>0.0</td>\n",
              "      <td>130.99968</td>\n",
              "      <td>95.20488</td>\n",
              "      <td>0.0</td>\n",
              "      <td>267.33</td>\n",
              "      <td>9.03070</td>\n",
              "    </tr>\n",
              "    <tr>\n",
              "      <th>2</th>\n",
              "      <td>0.00000</td>\n",
              "      <td>0.0</td>\n",
              "      <td>0.0000</td>\n",
              "      <td>0.0</td>\n",
              "      <td>0.0</td>\n",
              "      <td>0.0</td>\n",
              "      <td>0.0000</td>\n",
              "      <td>0.0</td>\n",
              "      <td>0.25160</td>\n",
              "      <td>0.0962</td>\n",
              "      <td>0.0</td>\n",
              "      <td>0.0</td>\n",
              "      <td>0.0</td>\n",
              "      <td>213.06672</td>\n",
              "      <td>96.10340</td>\n",
              "      <td>0.0</td>\n",
              "      <td>368.52</td>\n",
              "      <td>15.28840</td>\n",
              "    </tr>\n",
              "    <tr>\n",
              "      <th>3</th>\n",
              "      <td>0.00000</td>\n",
              "      <td>0.0</td>\n",
              "      <td>0.0000</td>\n",
              "      <td>0.0</td>\n",
              "      <td>0.0</td>\n",
              "      <td>0.0</td>\n",
              "      <td>0.0000</td>\n",
              "      <td>0.0</td>\n",
              "      <td>0.38233</td>\n",
              "      <td>0.0000</td>\n",
              "      <td>0.0</td>\n",
              "      <td>0.0</td>\n",
              "      <td>0.0</td>\n",
              "      <td>170.39808</td>\n",
              "      <td>123.83793</td>\n",
              "      <td>0.0</td>\n",
              "      <td>347.73</td>\n",
              "      <td>11.74670</td>\n",
              "    </tr>\n",
              "    <tr>\n",
              "      <th>4</th>\n",
              "      <td>0.00000</td>\n",
              "      <td>0.0</td>\n",
              "      <td>0.0000</td>\n",
              "      <td>0.0</td>\n",
              "      <td>0.0</td>\n",
              "      <td>0.0</td>\n",
              "      <td>0.0000</td>\n",
              "      <td>0.0</td>\n",
              "      <td>0.09744</td>\n",
              "      <td>0.0000</td>\n",
              "      <td>0.0</td>\n",
              "      <td>0.0</td>\n",
              "      <td>0.0</td>\n",
              "      <td>112.32144</td>\n",
              "      <td>45.54761</td>\n",
              "      <td>0.0</td>\n",
              "      <td>169.12</td>\n",
              "      <td>9.58720</td>\n",
              "    </tr>\n",
              "  </tbody>\n",
              "</table>\n",
              "</div>"
            ],
            "text/plain": [
              "    Grains  Whole_Grains  Vegetables  Orange_Vegetables  Drkgreen_Vegetables  \\\n",
              "0  0.04799           0.0      0.0407                0.0                  0.0   \n",
              "1  0.00000           0.0      0.0000                0.0                  0.0   \n",
              "2  0.00000           0.0      0.0000                0.0                  0.0   \n",
              "3  0.00000           0.0      0.0000                0.0                  0.0   \n",
              "4  0.00000           0.0      0.0000                0.0                  0.0   \n",
              "\n",
              "   Starchy_vegetables  Other_Vegetables  Fruits     Milk   Meats  Soy  \\\n",
              "0                 0.0            0.0407     0.0  0.00000  0.0000  0.0   \n",
              "1                 0.0            0.0000     0.0  0.29393  0.0000  0.0   \n",
              "2                 0.0            0.0000     0.0  0.25160  0.0962  0.0   \n",
              "3                 0.0            0.0000     0.0  0.38233  0.0000  0.0   \n",
              "4                 0.0            0.0000     0.0  0.09744  0.0000  0.0   \n",
              "\n",
              "   Drybeans_Peas  Oils  Solid_Fats  Added_Sugars  Alcohol  Calories  \\\n",
              "0            0.0   0.0   105.64850       1.57001      0.0    133.65   \n",
              "1            0.0   0.0   130.99968      95.20488      0.0    267.33   \n",
              "2            0.0   0.0   213.06672      96.10340      0.0    368.52   \n",
              "3            0.0   0.0   170.39808     123.83793      0.0    347.73   \n",
              "4            0.0   0.0   112.32144      45.54761      0.0    169.12   \n",
              "\n",
              "   Saturated_Fats  \n",
              "0         7.36898  \n",
              "1         9.03070  \n",
              "2        15.28840  \n",
              "3        11.74670  \n",
              "4         9.58720  "
            ]
          },
          "metadata": {}
        }
      ],
      "execution_count": 16,
      "metadata": {}
    },
    {
      "cell_type": "code",
      "source": [
        "summary_stats = ml_pipeline_data.describe()\n",
        "summary_stats.to_excel(\"EDA_Food_Data.xlsx\")"
      ],
      "outputs": [],
      "execution_count": 17,
      "metadata": {}
    },
    {
      "cell_type": "code",
      "source": [
        "# Visualizing correlation will be more absolute using standard scaler.\n",
        "col = list(ml_pipeline_data.keys())[:-1]\n",
        "scaler = MinMaxScaler()\n",
        "ml_pipeline_data[col] = scaler.fit_transform(ml_pipeline_data[col])\n",
        "\n",
        "sns.set(style=\"white\")\n",
        "\n",
        "# Compute the correlation matrix.\n",
        "pearson_corr = ml_pipeline_data.corr(method ='pearson')\n",
        "\n",
        "# Generate a mask for the upper triangle.\n",
        "mask = np.zeros_like(pearson_corr, dtype=np.bool)\n",
        "mask[np.triu_indices_from(mask)] = True\n",
        "\n",
        "# Set up the matplotlib figure.\n",
        "f, ax = plt.subplots(figsize=(12, 14))\n",
        "\n",
        "# Generate a custom diverging colormap.\n",
        "cmap = sns.diverging_palette(220, 10, as_cmap=True)\n",
        "\n",
        "# Draw the heatmap with the mask and correct aspect ratio.\n",
        "sns.heatmap(pearson_corr, mask=mask, cmap=cmap, vmax=.3, center=0,\n",
        "            square=True, linewidths=.5, cbar_kws={\"shrink\": .5})"
      ],
      "outputs": [
        {
          "output_type": "execute_result",
          "execution_count": 18,
          "data": {
            "text/plain": [
              "<matplotlib.axes._subplots.AxesSubplot at 0x1c1d37e0b8>"
            ]
          },
          "metadata": {}
        },
        {
          "output_type": "display_data",
          "data": {
            "image/png": "[encoded data removed]",
            "text/plain": [
              "<Figure size 1200x1400 with 2 Axes>"
            ]
          },
          "metadata": {}
        }
      ],
      "execution_count": 18,
      "metadata": {}
    },
    {
      "cell_type": "markdown",
      "source": [
        "### Regression Analysis."
      ],
      "metadata": {}
    },
    {
      "cell_type": "markdown",
      "source": [
        "### Target Variable - Continuous (Calorie Value)"
      ],
      "metadata": {}
    },
    {
      "cell_type": "markdown",
      "source": [
        "#### Selecting the independent and dependent variables from dataframe."
      ],
      "metadata": {}
    },
    {
      "cell_type": "code",
      "source": [
        "ml_pipeline_data = food_data.drop(drp_cols, axis=1)\n",
        "print(ml_pipeline_data.shape)\n",
        "ml_pipeline_data.head()"
      ],
      "outputs": [
        {
          "output_type": "stream",
          "name": "stdout",
          "text": [
            "(2014, 18)\n"
          ]
        },
        {
          "output_type": "execute_result",
          "execution_count": 19,
          "data": {
            "text/html": [
              "<div>\n",
              "<style scoped>\n",
              "    .dataframe tbody tr th:only-of-type {\n",
              "        vertical-align: middle;\n",
              "    }\n",
              "\n",
              "    .dataframe tbody tr th {\n",
              "        vertical-align: top;\n",
              "    }\n",
              "\n",
              "    .dataframe thead th {\n",
              "        text-align: right;\n",
              "    }\n",
              "</style>\n",
              "<table border=\"1\" class=\"dataframe\">\n",
              "  <thead>\n",
              "    <tr style=\"text-align: right;\">\n",
              "      <th></th>\n",
              "      <th>Grains</th>\n",
              "      <th>Whole_Grains</th>\n",
              "      <th>Vegetables</th>\n",
              "      <th>Orange_Vegetables</th>\n",
              "      <th>Drkgreen_Vegetables</th>\n",
              "      <th>Starchy_vegetables</th>\n",
              "      <th>Other_Vegetables</th>\n",
              "      <th>Fruits</th>\n",
              "      <th>Milk</th>\n",
              "      <th>Meats</th>\n",
              "      <th>Soy</th>\n",
              "      <th>Drybeans_Peas</th>\n",
              "      <th>Oils</th>\n",
              "      <th>Solid_Fats</th>\n",
              "      <th>Added_Sugars</th>\n",
              "      <th>Alcohol</th>\n",
              "      <th>Calories</th>\n",
              "      <th>Saturated_Fats</th>\n",
              "    </tr>\n",
              "  </thead>\n",
              "  <tbody>\n",
              "    <tr>\n",
              "      <th>0</th>\n",
              "      <td>0.04799</td>\n",
              "      <td>0.0</td>\n",
              "      <td>0.0407</td>\n",
              "      <td>0.0</td>\n",
              "      <td>0.0</td>\n",
              "      <td>0.0</td>\n",
              "      <td>0.0407</td>\n",
              "      <td>0.0</td>\n",
              "      <td>0.00000</td>\n",
              "      <td>0.0000</td>\n",
              "      <td>0.0</td>\n",
              "      <td>0.0</td>\n",
              "      <td>0.0</td>\n",
              "      <td>105.64850</td>\n",
              "      <td>1.57001</td>\n",
              "      <td>0.0</td>\n",
              "      <td>133.65</td>\n",
              "      <td>7.36898</td>\n",
              "    </tr>\n",
              "    <tr>\n",
              "      <th>1</th>\n",
              "      <td>0.00000</td>\n",
              "      <td>0.0</td>\n",
              "      <td>0.0000</td>\n",
              "      <td>0.0</td>\n",
              "      <td>0.0</td>\n",
              "      <td>0.0</td>\n",
              "      <td>0.0000</td>\n",
              "      <td>0.0</td>\n",
              "      <td>0.29393</td>\n",
              "      <td>0.0000</td>\n",
              "      <td>0.0</td>\n",
              "      <td>0.0</td>\n",
              "      <td>0.0</td>\n",
              "      <td>130.99968</td>\n",
              "      <td>95.20488</td>\n",
              "      <td>0.0</td>\n",
              "      <td>267.33</td>\n",
              "      <td>9.03070</td>\n",
              "    </tr>\n",
              "    <tr>\n",
              "      <th>2</th>\n",
              "      <td>0.00000</td>\n",
              "      <td>0.0</td>\n",
              "      <td>0.0000</td>\n",
              "      <td>0.0</td>\n",
              "      <td>0.0</td>\n",
              "      <td>0.0</td>\n",
              "      <td>0.0000</td>\n",
              "      <td>0.0</td>\n",
              "      <td>0.25160</td>\n",
              "      <td>0.0962</td>\n",
              "      <td>0.0</td>\n",
              "      <td>0.0</td>\n",
              "      <td>0.0</td>\n",
              "      <td>213.06672</td>\n",
              "      <td>96.10340</td>\n",
              "      <td>0.0</td>\n",
              "      <td>368.52</td>\n",
              "      <td>15.28840</td>\n",
              "    </tr>\n",
              "    <tr>\n",
              "      <th>3</th>\n",
              "      <td>0.00000</td>\n",
              "      <td>0.0</td>\n",
              "      <td>0.0000</td>\n",
              "      <td>0.0</td>\n",
              "      <td>0.0</td>\n",
              "      <td>0.0</td>\n",
              "      <td>0.0000</td>\n",
              "      <td>0.0</td>\n",
              "      <td>0.38233</td>\n",
              "      <td>0.0000</td>\n",
              "      <td>0.0</td>\n",
              "      <td>0.0</td>\n",
              "      <td>0.0</td>\n",
              "      <td>170.39808</td>\n",
              "      <td>123.83793</td>\n",
              "      <td>0.0</td>\n",
              "      <td>347.73</td>\n",
              "      <td>11.74670</td>\n",
              "    </tr>\n",
              "    <tr>\n",
              "      <th>4</th>\n",
              "      <td>0.00000</td>\n",
              "      <td>0.0</td>\n",
              "      <td>0.0000</td>\n",
              "      <td>0.0</td>\n",
              "      <td>0.0</td>\n",
              "      <td>0.0</td>\n",
              "      <td>0.0000</td>\n",
              "      <td>0.0</td>\n",
              "      <td>0.09744</td>\n",
              "      <td>0.0000</td>\n",
              "      <td>0.0</td>\n",
              "      <td>0.0</td>\n",
              "      <td>0.0</td>\n",
              "      <td>112.32144</td>\n",
              "      <td>45.54761</td>\n",
              "      <td>0.0</td>\n",
              "      <td>169.12</td>\n",
              "      <td>9.58720</td>\n",
              "    </tr>\n",
              "  </tbody>\n",
              "</table>\n",
              "</div>"
            ],
            "text/plain": [
              "    Grains  Whole_Grains  Vegetables  Orange_Vegetables  Drkgreen_Vegetables  \\\n",
              "0  0.04799           0.0      0.0407                0.0                  0.0   \n",
              "1  0.00000           0.0      0.0000                0.0                  0.0   \n",
              "2  0.00000           0.0      0.0000                0.0                  0.0   \n",
              "3  0.00000           0.0      0.0000                0.0                  0.0   \n",
              "4  0.00000           0.0      0.0000                0.0                  0.0   \n",
              "\n",
              "   Starchy_vegetables  Other_Vegetables  Fruits     Milk   Meats  Soy  \\\n",
              "0                 0.0            0.0407     0.0  0.00000  0.0000  0.0   \n",
              "1                 0.0            0.0000     0.0  0.29393  0.0000  0.0   \n",
              "2                 0.0            0.0000     0.0  0.25160  0.0962  0.0   \n",
              "3                 0.0            0.0000     0.0  0.38233  0.0000  0.0   \n",
              "4                 0.0            0.0000     0.0  0.09744  0.0000  0.0   \n",
              "\n",
              "   Drybeans_Peas  Oils  Solid_Fats  Added_Sugars  Alcohol  Calories  \\\n",
              "0            0.0   0.0   105.64850       1.57001      0.0    133.65   \n",
              "1            0.0   0.0   130.99968      95.20488      0.0    267.33   \n",
              "2            0.0   0.0   213.06672      96.10340      0.0    368.52   \n",
              "3            0.0   0.0   170.39808     123.83793      0.0    347.73   \n",
              "4            0.0   0.0   112.32144      45.54761      0.0    169.12   \n",
              "\n",
              "   Saturated_Fats  \n",
              "0         7.36898  \n",
              "1         9.03070  \n",
              "2        15.28840  \n",
              "3        11.74670  \n",
              "4         9.58720  "
            ]
          },
          "metadata": {}
        }
      ],
      "execution_count": 19,
      "metadata": {}
    },
    {
      "cell_type": "code",
      "source": [
        "label = ['Calories']\n",
        "predictors = ml_pipeline_data.drop(label, axis=1)\n",
        "target = food_data[label[0]]"
      ],
      "outputs": [],
      "execution_count": 20,
      "metadata": {}
    },
    {
      "cell_type": "markdown",
      "source": [
        "#### Applying OLS regression model."
      ],
      "metadata": {}
    },
    {
      "cell_type": "code",
      "source": [
        "predictors = sm.add_constant(predictors)\n",
        "glm_model = sm.OLS(target, predictors).fit()\n",
        "glm_model.summary()"
      ],
      "outputs": [
        {
          "output_type": "stream",
          "name": "stderr",
          "text": [
            "/Users/ashimamunjal/anaconda3/lib/python3.7/site-packages/numpy/core/fromnumeric.py:2389: FutureWarning: Method .ptp is deprecated and will be removed in a future version. Use numpy.ptp instead.\n",
            "  return ptp(axis=axis, out=out, **kwargs)\n"
          ]
        },
        {
          "output_type": "execute_result",
          "execution_count": 21,
          "data": {
            "text/html": [
              "<table class=\"simpletable\">\n",
              "<caption>OLS Regression Results</caption>\n",
              "<tr>\n",
              "  <th>Dep. Variable:</th>        <td>Calories</td>     <th>  R-squared:         </th> <td>   0.962</td> \n",
              "</tr>\n",
              "<tr>\n",
              "  <th>Model:</th>                   <td>OLS</td>       <th>  Adj. R-squared:    </th> <td>   0.962</td> \n",
              "</tr>\n",
              "<tr>\n",
              "  <th>Method:</th>             <td>Least Squares</td>  <th>  F-statistic:       </th> <td>   3002.</td> \n",
              "</tr>\n",
              "<tr>\n",
              "  <th>Date:</th>             <td>Wed, 11 Dec 2019</td> <th>  Prob (F-statistic):</th>  <td>  0.00</td>  \n",
              "</tr>\n",
              "<tr>\n",
              "  <th>Time:</th>                 <td>20:31:37</td>     <th>  Log-Likelihood:    </th> <td> -9592.2</td> \n",
              "</tr>\n",
              "<tr>\n",
              "  <th>No. Observations:</th>      <td>  2014</td>      <th>  AIC:               </th> <td>1.922e+04</td>\n",
              "</tr>\n",
              "<tr>\n",
              "  <th>Df Residuals:</th>          <td>  1996</td>      <th>  BIC:               </th> <td>1.932e+04</td>\n",
              "</tr>\n",
              "<tr>\n",
              "  <th>Df Model:</th>              <td>    17</td>      <th>                     </th>     <td> </td>    \n",
              "</tr>\n",
              "<tr>\n",
              "  <th>Covariance Type:</th>      <td>nonrobust</td>    <th>                     </th>     <td> </td>    \n",
              "</tr>\n",
              "</table>\n",
              "<table class=\"simpletable\">\n",
              "<tr>\n",
              "           <td></td>              <th>coef</th>     <th>std err</th>      <th>t</th>      <th>P>|t|</th>  <th>[0.025</th>    <th>0.975]</th>  \n",
              "</tr>\n",
              "<tr>\n",
              "  <th>const</th>               <td>    6.9260</td> <td>    0.998</td> <td>    6.937</td> <td> 0.000</td> <td>    4.968</td> <td>    8.884</td>\n",
              "</tr>\n",
              "<tr>\n",
              "  <th>Grains</th>              <td>   63.6134</td> <td>    0.803</td> <td>   79.244</td> <td> 0.000</td> <td>   62.039</td> <td>   65.188</td>\n",
              "</tr>\n",
              "<tr>\n",
              "  <th>Whole_Grains</th>        <td>    9.3381</td> <td>    2.517</td> <td>    3.710</td> <td> 0.000</td> <td>    4.402</td> <td>   14.274</td>\n",
              "</tr>\n",
              "<tr>\n",
              "  <th>Vegetables</th>          <td>  143.4452</td> <td>  526.405</td> <td>    0.272</td> <td> 0.785</td> <td> -888.915</td> <td> 1175.806</td>\n",
              "</tr>\n",
              "<tr>\n",
              "  <th>Orange_Vegetables</th>   <td>  -40.1919</td> <td>  526.839</td> <td>   -0.076</td> <td> 0.939</td> <td>-1073.404</td> <td>  993.020</td>\n",
              "</tr>\n",
              "<tr>\n",
              "  <th>Drkgreen_Vegetables</th> <td> -107.1567</td> <td>  526.592</td> <td>   -0.203</td> <td> 0.839</td> <td>-1139.885</td> <td>  925.571</td>\n",
              "</tr>\n",
              "<tr>\n",
              "  <th>Starchy_vegetables</th>  <td>   19.1779</td> <td>  526.576</td> <td>    0.036</td> <td> 0.971</td> <td>-1013.517</td> <td> 1051.873</td>\n",
              "</tr>\n",
              "<tr>\n",
              "  <th>Other_Vegetables</th>    <td> -107.6245</td> <td>  526.296</td> <td>   -0.204</td> <td> 0.838</td> <td>-1139.773</td> <td>  924.523</td>\n",
              "</tr>\n",
              "<tr>\n",
              "  <th>Fruits</th>              <td>   81.8754</td> <td>    3.082</td> <td>   26.568</td> <td> 0.000</td> <td>   75.832</td> <td>   87.919</td>\n",
              "</tr>\n",
              "<tr>\n",
              "  <th>Milk</th>                <td>   46.6462</td> <td>    3.153</td> <td>   14.796</td> <td> 0.000</td> <td>   40.463</td> <td>   52.829</td>\n",
              "</tr>\n",
              "<tr>\n",
              "  <th>Meats</th>               <td>   42.4210</td> <td>    0.620</td> <td>   68.460</td> <td> 0.000</td> <td>   41.206</td> <td>   43.636</td>\n",
              "</tr>\n",
              "<tr>\n",
              "  <th>Soy</th>                 <td>   40.9229</td> <td>    4.533</td> <td>    9.028</td> <td> 0.000</td> <td>   32.033</td> <td>   49.813</td>\n",
              "</tr>\n",
              "<tr>\n",
              "  <th>Drybeans_Peas</th>       <td>  212.9799</td> <td>   12.891</td> <td>   16.522</td> <td> 0.000</td> <td>  187.699</td> <td>  238.261</td>\n",
              "</tr>\n",
              "<tr>\n",
              "  <th>Oils</th>                <td>   28.5927</td> <td>    0.846</td> <td>   33.811</td> <td> 0.000</td> <td>   26.934</td> <td>   30.251</td>\n",
              "</tr>\n",
              "<tr>\n",
              "  <th>Solid_Fats</th>          <td>    0.6478</td> <td>    0.024</td> <td>   26.701</td> <td> 0.000</td> <td>    0.600</td> <td>    0.695</td>\n",
              "</tr>\n",
              "<tr>\n",
              "  <th>Added_Sugars</th>        <td>    1.0242</td> <td>    0.016</td> <td>   63.546</td> <td> 0.000</td> <td>    0.993</td> <td>    1.056</td>\n",
              "</tr>\n",
              "<tr>\n",
              "  <th>Alcohol</th>             <td>    0.9432</td> <td>    0.030</td> <td>   31.823</td> <td> 0.000</td> <td>    0.885</td> <td>    1.001</td>\n",
              "</tr>\n",
              "<tr>\n",
              "  <th>Saturated_Fats</th>      <td>    9.5910</td> <td>    0.482</td> <td>   19.913</td> <td> 0.000</td> <td>    8.646</td> <td>   10.536</td>\n",
              "</tr>\n",
              "</table>\n",
              "<table class=\"simpletable\">\n",
              "<tr>\n",
              "  <th>Omnibus:</th>       <td>532.231</td> <th>  Durbin-Watson:     </th> <td>   1.075</td>\n",
              "</tr>\n",
              "<tr>\n",
              "  <th>Prob(Omnibus):</th> <td> 0.000</td>  <th>  Jarque-Bera (JB):  </th> <td>7322.779</td>\n",
              "</tr>\n",
              "<tr>\n",
              "  <th>Skew:</th>          <td> 0.851</td>  <th>  Prob(JB):          </th> <td>    0.00</td>\n",
              "</tr>\n",
              "<tr>\n",
              "  <th>Kurtosis:</th>      <td>12.185</td>  <th>  Cond. No.          </th> <td>1.28e+05</td>\n",
              "</tr>\n",
              "</table><br/><br/>Warnings:<br/>[1] Standard Errors assume that the covariance matrix of the errors is correctly specified.<br/>[2] The condition number is large, 1.28e+05. This might indicate that there are<br/>strong multicollinearity or other numerical problems."
            ],
            "text/plain": [
              "<class 'statsmodels.iolib.summary.Summary'>\n",
              "\"\"\"\n",
              "                            OLS Regression Results                            \n",
              "==============================================================================\n",
              "Dep. Variable:               Calories   R-squared:                       0.962\n",
              "Model:                            OLS   Adj. R-squared:                  0.962\n",
              "Method:                 Least Squares   F-statistic:                     3002.\n",
              "Date:                Wed, 11 Dec 2019   Prob (F-statistic):               0.00\n",
              "Time:                        20:31:37   Log-Likelihood:                -9592.2\n",
              "No. Observations:                2014   AIC:                         1.922e+04\n",
              "Df Residuals:                    1996   BIC:                         1.932e+04\n",
              "Df Model:                          17                                         \n",
              "Covariance Type:            nonrobust                                         \n",
              "=======================================================================================\n",
              "                          coef    std err          t      P>|t|      [0.025      0.975]\n",
              "---------------------------------------------------------------------------------------\n",
              "const                   6.9260      0.998      6.937      0.000       4.968       8.884\n",
              "Grains                 63.6134      0.803     79.244      0.000      62.039      65.188\n",
              "Whole_Grains            9.3381      2.517      3.710      0.000       4.402      14.274\n",
              "Vegetables            143.4452    526.405      0.272      0.785    -888.915    1175.806\n",
              "Orange_Vegetables     -40.1919    526.839     -0.076      0.939   -1073.404     993.020\n",
              "Drkgreen_Vegetables  -107.1567    526.592     -0.203      0.839   -1139.885     925.571\n",
              "Starchy_vegetables     19.1779    526.576      0.036      0.971   -1013.517    1051.873\n",
              "Other_Vegetables     -107.6245    526.296     -0.204      0.838   -1139.773     924.523\n",
              "Fruits                 81.8754      3.082     26.568      0.000      75.832      87.919\n",
              "Milk                   46.6462      3.153     14.796      0.000      40.463      52.829\n",
              "Meats                  42.4210      0.620     68.460      0.000      41.206      43.636\n",
              "Soy                    40.9229      4.533      9.028      0.000      32.033      49.813\n",
              "Drybeans_Peas         212.9799     12.891     16.522      0.000     187.699     238.261\n",
              "Oils                   28.5927      0.846     33.811      0.000      26.934      30.251\n",
              "Solid_Fats              0.6478      0.024     26.701      0.000       0.600       0.695\n",
              "Added_Sugars            1.0242      0.016     63.546      0.000       0.993       1.056\n",
              "Alcohol                 0.9432      0.030     31.823      0.000       0.885       1.001\n",
              "Saturated_Fats          9.5910      0.482     19.913      0.000       8.646      10.536\n",
              "==============================================================================\n",
              "Omnibus:                      532.231   Durbin-Watson:                   1.075\n",
              "Prob(Omnibus):                  0.000   Jarque-Bera (JB):             7322.779\n",
              "Skew:                           0.851   Prob(JB):                         0.00\n",
              "Kurtosis:                      12.185   Cond. No.                     1.28e+05\n",
              "==============================================================================\n",
              "\n",
              "Warnings:\n",
              "[1] Standard Errors assume that the covariance matrix of the errors is correctly specified.\n",
              "[2] The condition number is large, 1.28e+05. This might indicate that there are\n",
              "strong multicollinearity or other numerical problems.\n",
              "\"\"\""
            ]
          },
          "metadata": {}
        }
      ],
      "execution_count": 21,
      "metadata": {}
    },
    {
      "cell_type": "markdown",
      "source": [
        "#### Selecting LassoLarsIC Model with \"bic\" criterion.\n"
      ],
      "metadata": {}
    },
    {
      "cell_type": "code",
      "source": [
        "regression = LassoLarsIC(criterion='bic')"
      ],
      "outputs": [],
      "execution_count": 22,
      "metadata": {}
    },
    {
      "cell_type": "markdown",
      "source": [
        "#### Fitting the model with data."
      ],
      "metadata": {}
    },
    {
      "cell_type": "code",
      "source": [
        "regression.fit(predictors, target)"
      ],
      "outputs": [
        {
          "output_type": "execute_result",
          "execution_count": 23,
          "data": {
            "text/plain": [
              "LassoLarsIC(copy_X=True, criterion='bic', eps=2.220446049250313e-16,\n",
              "            fit_intercept=True, max_iter=500, normalize=True, positive=False,\n",
              "            precompute='auto', verbose=False)"
            ]
          },
          "metadata": {}
        }
      ],
      "execution_count": 23,
      "metadata": {}
    },
    {
      "cell_type": "markdown",
      "source": [
        "#### Observing the variables selected by the model."
      ],
      "metadata": {}
    },
    {
      "cell_type": "code",
      "source": [
        "selected_features = list(predictors.columns[np.abs(regression.coef_) > 0])\n",
        "print(\"The LassoLarsIC model has selected the following features: \")\n",
        "for idx, ele in enumerate(selected_features):\n",
        "    print(str(idx+1), \":\", ele)"
      ],
      "outputs": [
        {
          "output_type": "stream",
          "name": "stdout",
          "text": [
            "The LassoLarsIC model has selected the following features: \n",
            "1 : Grains\n",
            "2 : Vegetables\n",
            "3 : Orange_Vegetables\n",
            "4 : Starchy_vegetables\n",
            "5 : Fruits\n",
            "6 : Milk\n",
            "7 : Meats\n",
            "8 : Soy\n",
            "9 : Drybeans_Peas\n",
            "10 : Oils\n",
            "11 : Solid_Fats\n",
            "12 : Added_Sugars\n",
            "13 : Alcohol\n",
            "14 : Saturated_Fats\n"
          ]
        }
      ],
      "execution_count": 24,
      "metadata": {}
    },
    {
      "cell_type": "markdown",
      "source": [
        "#### Splitting data into train and test sets for Machine Learning Model."
      ],
      "metadata": {}
    },
    {
      "cell_type": "code",
      "source": [
        "# Splitting data.\n",
        "split = 25\n",
        "random_idx = np.random.permutation(len(ml_pipeline_data))\n",
        "test_size = int(len(ml_pipeline_data) * (split/100))\n",
        "test_idx = random_idx[:test_size]\n",
        "train_idx = random_idx[test_size:]\n",
        "train_set = ml_pipeline_data.loc[train_idx]\n",
        "test_set = ml_pipeline_data.loc[test_idx]\n",
        "\n",
        "# Dropping the dependent variable in the training and testing data \n",
        "# and creating label vector using it.\n",
        "# x - Predictor, y - Label.\n",
        "tr_x = train_set.drop(label, axis=1)\n",
        "tr_y = train_set[label]\n",
        "ts_x = test_set.drop(label, axis=1)\n",
        "ts_y = test_set[label].values\n",
        "\n",
        "numeric_pipeline = Pipeline(steps=[\n",
        "                    ('scaler', MinMaxScaler())])\n",
        "\n",
        "# Transforming the dataset.\n",
        "tr_x = numeric_pipeline.fit_transform(tr_x)\n",
        "ts_x = numeric_pipeline.transform(ts_x)\n",
        "\n",
        "# Rows of data in the training and testing set after transformation.\n",
        "print(\"\\nTraining Predictor Shape: {0}\".format(tr_x.shape))\n",
        "print(\"Testing Predictor Shape: {0}\".format(ts_x.shape))\n",
        "\n",
        "tr_y = np.asarray(tr_y)\n",
        "tr_y = tr_y.reshape(-1,1)\n",
        "tr_y = numeric_pipeline.fit_transform(tr_y)\n",
        "\n",
        "print(\"\\nTraining Label Shape: {0}\".format(tr_y.shape))\n",
        "print(\"Testing Label Shape: {0}\".format(ts_y.shape))"
      ],
      "outputs": [
        {
          "output_type": "stream",
          "name": "stdout",
          "text": [
            "\n",
            "Training Predictor Shape: (1511, 17)\n",
            "Testing Predictor Shape: (503, 17)\n",
            "\n",
            "Training Label Shape: (1511, 1)\n",
            "Testing Label Shape: (503, 1)\n"
          ]
        }
      ],
      "execution_count": 25,
      "metadata": {}
    },
    {
      "cell_type": "markdown",
      "source": [
        "#### Selecting LassoLarsIC Model."
      ],
      "metadata": {}
    },
    {
      "cell_type": "code",
      "source": [
        "regression = LassoLarsIC()"
      ],
      "outputs": [],
      "execution_count": 26,
      "metadata": {}
    },
    {
      "cell_type": "markdown",
      "source": [
        "#### Fitting the model with scaled data."
      ],
      "metadata": {}
    },
    {
      "cell_type": "code",
      "source": [
        "regression.fit(tr_x, tr_y)"
      ],
      "outputs": [
        {
          "output_type": "stream",
          "name": "stderr",
          "text": [
            "/Users/ashimamunjal/anaconda3/lib/python3.7/site-packages/sklearn/utils/validation.py:724: DataConversionWarning: A column-vector y was passed when a 1d array was expected. Please change the shape of y to (n_samples, ), for example using ravel().\n",
            "  y = column_or_1d(y, warn=True)\n"
          ]
        },
        {
          "output_type": "execute_result",
          "execution_count": 27,
          "data": {
            "text/plain": [
              "LassoLarsIC(copy_X=True, criterion='aic', eps=2.220446049250313e-16,\n",
              "            fit_intercept=True, max_iter=500, normalize=True, positive=False,\n",
              "            precompute='auto', verbose=False)"
            ]
          },
          "metadata": {}
        }
      ],
      "execution_count": 27,
      "metadata": {}
    },
    {
      "cell_type": "markdown",
      "source": [
        "#### Predicting the results."
      ],
      "metadata": {}
    },
    {
      "cell_type": "code",
      "source": [
        "prediction_lassolars = regression.predict(ts_x)\n",
        "prediction_lassolars = numeric_pipeline.inverse_transform(prediction_lassolars.reshape(-1, 1))"
      ],
      "outputs": [],
      "execution_count": 28,
      "metadata": {}
    },
    {
      "cell_type": "markdown",
      "source": [
        "#### Evaluating the model using mean squared error."
      ],
      "metadata": {}
    },
    {
      "cell_type": "code",
      "source": [
        "score_lassolars = metrics.mean_squared_error(y_true=ts_y, y_pred=prediction_lassolars)\n",
        "print(\"LassoLarsIC Performance Score:\", score_lassolars)"
      ],
      "outputs": [
        {
          "output_type": "stream",
          "name": "stdout",
          "text": [
            "LassoLarsIC Performance Score: 959.729666800038\n"
          ]
        }
      ],
      "execution_count": 29,
      "metadata": {}
    },
    {
      "cell_type": "markdown",
      "source": [
        "#### Selecting LassoCV Model."
      ],
      "metadata": {}
    },
    {
      "cell_type": "code",
      "source": [
        "model_lasso_cv = LassoCV(cv=3, normalize=False)\n",
        "model_lasso_cv.fit(tr_x, tr_y)\n",
        "prediction_lassocv = model_lasso_cv.predict(ts_x)\n",
        "prediction_lassocv = numeric_pipeline.inverse_transform(prediction_lassocv.reshape(-1, 1))\n",
        "score_lassocv = metrics.mean_squared_error(y_true=ts_y, y_pred=prediction_lassocv)\n",
        "print(\"LassoCV Performance Score::\", score_lassocv)"
      ],
      "outputs": [
        {
          "output_type": "stream",
          "name": "stdout",
          "text": [
            "LassoCV Performance Score:: 958.7587332652159\n"
          ]
        },
        {
          "output_type": "stream",
          "name": "stderr",
          "text": [
            "/Users/ashimamunjal/anaconda3/lib/python3.7/site-packages/sklearn/linear_model/coordinate_descent.py:1100: DataConversionWarning: A column-vector y was passed when a 1d array was expected. Please change the shape of y to (n_samples, ), for example using ravel().\n",
            "  y = column_or_1d(y, warn=True)\n"
          ]
        }
      ],
      "execution_count": 30,
      "metadata": {}
    },
    {
      "cell_type": "markdown",
      "source": [
        "### Target Variable - Categorical (Calorie Categories)"
      ],
      "metadata": {}
    },
    {
      "cell_type": "code",
      "source": [
        "ml_pipeline_data = food_data.drop(drp_cols, axis=1)\n",
        "print(ml_pipeline_data.shape)\n",
        "ml_pipeline_data.head()"
      ],
      "outputs": [
        {
          "output_type": "stream",
          "name": "stdout",
          "text": [
            "(2014, 18)\n"
          ]
        },
        {
          "output_type": "execute_result",
          "execution_count": 31,
          "data": {
            "text/html": [
              "<div>\n",
              "<style scoped>\n",
              "    .dataframe tbody tr th:only-of-type {\n",
              "        vertical-align: middle;\n",
              "    }\n",
              "\n",
              "    .dataframe tbody tr th {\n",
              "        vertical-align: top;\n",
              "    }\n",
              "\n",
              "    .dataframe thead th {\n",
              "        text-align: right;\n",
              "    }\n",
              "</style>\n",
              "<table border=\"1\" class=\"dataframe\">\n",
              "  <thead>\n",
              "    <tr style=\"text-align: right;\">\n",
              "      <th></th>\n",
              "      <th>Grains</th>\n",
              "      <th>Whole_Grains</th>\n",
              "      <th>Vegetables</th>\n",
              "      <th>Orange_Vegetables</th>\n",
              "      <th>Drkgreen_Vegetables</th>\n",
              "      <th>Starchy_vegetables</th>\n",
              "      <th>Other_Vegetables</th>\n",
              "      <th>Fruits</th>\n",
              "      <th>Milk</th>\n",
              "      <th>Meats</th>\n",
              "      <th>Soy</th>\n",
              "      <th>Drybeans_Peas</th>\n",
              "      <th>Oils</th>\n",
              "      <th>Solid_Fats</th>\n",
              "      <th>Added_Sugars</th>\n",
              "      <th>Alcohol</th>\n",
              "      <th>Calories</th>\n",
              "      <th>Saturated_Fats</th>\n",
              "    </tr>\n",
              "  </thead>\n",
              "  <tbody>\n",
              "    <tr>\n",
              "      <th>0</th>\n",
              "      <td>0.04799</td>\n",
              "      <td>0.0</td>\n",
              "      <td>0.0407</td>\n",
              "      <td>0.0</td>\n",
              "      <td>0.0</td>\n",
              "      <td>0.0</td>\n",
              "      <td>0.0407</td>\n",
              "      <td>0.0</td>\n",
              "      <td>0.00000</td>\n",
              "      <td>0.0000</td>\n",
              "      <td>0.0</td>\n",
              "      <td>0.0</td>\n",
              "      <td>0.0</td>\n",
              "      <td>105.64850</td>\n",
              "      <td>1.57001</td>\n",
              "      <td>0.0</td>\n",
              "      <td>133.65</td>\n",
              "      <td>7.36898</td>\n",
              "    </tr>\n",
              "    <tr>\n",
              "      <th>1</th>\n",
              "      <td>0.00000</td>\n",
              "      <td>0.0</td>\n",
              "      <td>0.0000</td>\n",
              "      <td>0.0</td>\n",
              "      <td>0.0</td>\n",
              "      <td>0.0</td>\n",
              "      <td>0.0000</td>\n",
              "      <td>0.0</td>\n",
              "      <td>0.29393</td>\n",
              "      <td>0.0000</td>\n",
              "      <td>0.0</td>\n",
              "      <td>0.0</td>\n",
              "      <td>0.0</td>\n",
              "      <td>130.99968</td>\n",
              "      <td>95.20488</td>\n",
              "      <td>0.0</td>\n",
              "      <td>267.33</td>\n",
              "      <td>9.03070</td>\n",
              "    </tr>\n",
              "    <tr>\n",
              "      <th>2</th>\n",
              "      <td>0.00000</td>\n",
              "      <td>0.0</td>\n",
              "      <td>0.0000</td>\n",
              "      <td>0.0</td>\n",
              "      <td>0.0</td>\n",
              "      <td>0.0</td>\n",
              "      <td>0.0000</td>\n",
              "      <td>0.0</td>\n",
              "      <td>0.25160</td>\n",
              "      <td>0.0962</td>\n",
              "      <td>0.0</td>\n",
              "      <td>0.0</td>\n",
              "      <td>0.0</td>\n",
              "      <td>213.06672</td>\n",
              "      <td>96.10340</td>\n",
              "      <td>0.0</td>\n",
              "      <td>368.52</td>\n",
              "      <td>15.28840</td>\n",
              "    </tr>\n",
              "    <tr>\n",
              "      <th>3</th>\n",
              "      <td>0.00000</td>\n",
              "      <td>0.0</td>\n",
              "      <td>0.0000</td>\n",
              "      <td>0.0</td>\n",
              "      <td>0.0</td>\n",
              "      <td>0.0</td>\n",
              "      <td>0.0000</td>\n",
              "      <td>0.0</td>\n",
              "      <td>0.38233</td>\n",
              "      <td>0.0000</td>\n",
              "      <td>0.0</td>\n",
              "      <td>0.0</td>\n",
              "      <td>0.0</td>\n",
              "      <td>170.39808</td>\n",
              "      <td>123.83793</td>\n",
              "      <td>0.0</td>\n",
              "      <td>347.73</td>\n",
              "      <td>11.74670</td>\n",
              "    </tr>\n",
              "    <tr>\n",
              "      <th>4</th>\n",
              "      <td>0.00000</td>\n",
              "      <td>0.0</td>\n",
              "      <td>0.0000</td>\n",
              "      <td>0.0</td>\n",
              "      <td>0.0</td>\n",
              "      <td>0.0</td>\n",
              "      <td>0.0000</td>\n",
              "      <td>0.0</td>\n",
              "      <td>0.09744</td>\n",
              "      <td>0.0000</td>\n",
              "      <td>0.0</td>\n",
              "      <td>0.0</td>\n",
              "      <td>0.0</td>\n",
              "      <td>112.32144</td>\n",
              "      <td>45.54761</td>\n",
              "      <td>0.0</td>\n",
              "      <td>169.12</td>\n",
              "      <td>9.58720</td>\n",
              "    </tr>\n",
              "  </tbody>\n",
              "</table>\n",
              "</div>"
            ],
            "text/plain": [
              "    Grains  Whole_Grains  Vegetables  Orange_Vegetables  Drkgreen_Vegetables  \\\n",
              "0  0.04799           0.0      0.0407                0.0                  0.0   \n",
              "1  0.00000           0.0      0.0000                0.0                  0.0   \n",
              "2  0.00000           0.0      0.0000                0.0                  0.0   \n",
              "3  0.00000           0.0      0.0000                0.0                  0.0   \n",
              "4  0.00000           0.0      0.0000                0.0                  0.0   \n",
              "\n",
              "   Starchy_vegetables  Other_Vegetables  Fruits     Milk   Meats  Soy  \\\n",
              "0                 0.0            0.0407     0.0  0.00000  0.0000  0.0   \n",
              "1                 0.0            0.0000     0.0  0.29393  0.0000  0.0   \n",
              "2                 0.0            0.0000     0.0  0.25160  0.0962  0.0   \n",
              "3                 0.0            0.0000     0.0  0.38233  0.0000  0.0   \n",
              "4                 0.0            0.0000     0.0  0.09744  0.0000  0.0   \n",
              "\n",
              "   Drybeans_Peas  Oils  Solid_Fats  Added_Sugars  Alcohol  Calories  \\\n",
              "0            0.0   0.0   105.64850       1.57001      0.0    133.65   \n",
              "1            0.0   0.0   130.99968      95.20488      0.0    267.33   \n",
              "2            0.0   0.0   213.06672      96.10340      0.0    368.52   \n",
              "3            0.0   0.0   170.39808     123.83793      0.0    347.73   \n",
              "4            0.0   0.0   112.32144      45.54761      0.0    169.12   \n",
              "\n",
              "   Saturated_Fats  \n",
              "0         7.36898  \n",
              "1         9.03070  \n",
              "2        15.28840  \n",
              "3        11.74670  \n",
              "4         9.58720  "
            ]
          },
          "metadata": {}
        }
      ],
      "execution_count": 31,
      "metadata": {}
    },
    {
      "cell_type": "markdown",
      "source": [
        "#### Dropping continuous target variable - Calories.\n"
      ],
      "metadata": {}
    },
    {
      "cell_type": "code",
      "source": [
        "ml_pipeline_data.drop('Calories', axis=1, inplace=True)"
      ],
      "outputs": [],
      "execution_count": 32,
      "metadata": {}
    },
    {
      "cell_type": "markdown",
      "source": [
        "#### Adding categorical \"Calories\" variable to the data."
      ],
      "metadata": {}
    },
    {
      "cell_type": "code",
      "source": [
        "ml_pipeline_data['Calories'] = calorie_category"
      ],
      "outputs": [],
      "execution_count": 33,
      "metadata": {}
    },
    {
      "cell_type": "code",
      "source": [
        "ml_pipeline_data.head()"
      ],
      "outputs": [
        {
          "output_type": "execute_result",
          "execution_count": 34,
          "data": {
            "text/html": [
              "<div>\n",
              "<style scoped>\n",
              "    .dataframe tbody tr th:only-of-type {\n",
              "        vertical-align: middle;\n",
              "    }\n",
              "\n",
              "    .dataframe tbody tr th {\n",
              "        vertical-align: top;\n",
              "    }\n",
              "\n",
              "    .dataframe thead th {\n",
              "        text-align: right;\n",
              "    }\n",
              "</style>\n",
              "<table border=\"1\" class=\"dataframe\">\n",
              "  <thead>\n",
              "    <tr style=\"text-align: right;\">\n",
              "      <th></th>\n",
              "      <th>Grains</th>\n",
              "      <th>Whole_Grains</th>\n",
              "      <th>Vegetables</th>\n",
              "      <th>Orange_Vegetables</th>\n",
              "      <th>Drkgreen_Vegetables</th>\n",
              "      <th>Starchy_vegetables</th>\n",
              "      <th>Other_Vegetables</th>\n",
              "      <th>Fruits</th>\n",
              "      <th>Milk</th>\n",
              "      <th>Meats</th>\n",
              "      <th>Soy</th>\n",
              "      <th>Drybeans_Peas</th>\n",
              "      <th>Oils</th>\n",
              "      <th>Solid_Fats</th>\n",
              "      <th>Added_Sugars</th>\n",
              "      <th>Alcohol</th>\n",
              "      <th>Saturated_Fats</th>\n",
              "      <th>Calories</th>\n",
              "    </tr>\n",
              "  </thead>\n",
              "  <tbody>\n",
              "    <tr>\n",
              "      <th>0</th>\n",
              "      <td>0.04799</td>\n",
              "      <td>0.0</td>\n",
              "      <td>0.0407</td>\n",
              "      <td>0.0</td>\n",
              "      <td>0.0</td>\n",
              "      <td>0.0</td>\n",
              "      <td>0.0407</td>\n",
              "      <td>0.0</td>\n",
              "      <td>0.00000</td>\n",
              "      <td>0.0000</td>\n",
              "      <td>0.0</td>\n",
              "      <td>0.0</td>\n",
              "      <td>0.0</td>\n",
              "      <td>105.64850</td>\n",
              "      <td>1.57001</td>\n",
              "      <td>0.0</td>\n",
              "      <td>7.36898</td>\n",
              "      <td>High</td>\n",
              "    </tr>\n",
              "    <tr>\n",
              "      <th>1</th>\n",
              "      <td>0.00000</td>\n",
              "      <td>0.0</td>\n",
              "      <td>0.0000</td>\n",
              "      <td>0.0</td>\n",
              "      <td>0.0</td>\n",
              "      <td>0.0</td>\n",
              "      <td>0.0000</td>\n",
              "      <td>0.0</td>\n",
              "      <td>0.29393</td>\n",
              "      <td>0.0000</td>\n",
              "      <td>0.0</td>\n",
              "      <td>0.0</td>\n",
              "      <td>0.0</td>\n",
              "      <td>130.99968</td>\n",
              "      <td>95.20488</td>\n",
              "      <td>0.0</td>\n",
              "      <td>9.03070</td>\n",
              "      <td>High</td>\n",
              "    </tr>\n",
              "    <tr>\n",
              "      <th>2</th>\n",
              "      <td>0.00000</td>\n",
              "      <td>0.0</td>\n",
              "      <td>0.0000</td>\n",
              "      <td>0.0</td>\n",
              "      <td>0.0</td>\n",
              "      <td>0.0</td>\n",
              "      <td>0.0000</td>\n",
              "      <td>0.0</td>\n",
              "      <td>0.25160</td>\n",
              "      <td>0.0962</td>\n",
              "      <td>0.0</td>\n",
              "      <td>0.0</td>\n",
              "      <td>0.0</td>\n",
              "      <td>213.06672</td>\n",
              "      <td>96.10340</td>\n",
              "      <td>0.0</td>\n",
              "      <td>15.28840</td>\n",
              "      <td>High</td>\n",
              "    </tr>\n",
              "    <tr>\n",
              "      <th>3</th>\n",
              "      <td>0.00000</td>\n",
              "      <td>0.0</td>\n",
              "      <td>0.0000</td>\n",
              "      <td>0.0</td>\n",
              "      <td>0.0</td>\n",
              "      <td>0.0</td>\n",
              "      <td>0.0000</td>\n",
              "      <td>0.0</td>\n",
              "      <td>0.38233</td>\n",
              "      <td>0.0000</td>\n",
              "      <td>0.0</td>\n",
              "      <td>0.0</td>\n",
              "      <td>0.0</td>\n",
              "      <td>170.39808</td>\n",
              "      <td>123.83793</td>\n",
              "      <td>0.0</td>\n",
              "      <td>11.74670</td>\n",
              "      <td>High</td>\n",
              "    </tr>\n",
              "    <tr>\n",
              "      <th>4</th>\n",
              "      <td>0.00000</td>\n",
              "      <td>0.0</td>\n",
              "      <td>0.0000</td>\n",
              "      <td>0.0</td>\n",
              "      <td>0.0</td>\n",
              "      <td>0.0</td>\n",
              "      <td>0.0000</td>\n",
              "      <td>0.0</td>\n",
              "      <td>0.09744</td>\n",
              "      <td>0.0000</td>\n",
              "      <td>0.0</td>\n",
              "      <td>0.0</td>\n",
              "      <td>0.0</td>\n",
              "      <td>112.32144</td>\n",
              "      <td>45.54761</td>\n",
              "      <td>0.0</td>\n",
              "      <td>9.58720</td>\n",
              "      <td>High</td>\n",
              "    </tr>\n",
              "  </tbody>\n",
              "</table>\n",
              "</div>"
            ],
            "text/plain": [
              "    Grains  Whole_Grains  Vegetables  Orange_Vegetables  Drkgreen_Vegetables  \\\n",
              "0  0.04799           0.0      0.0407                0.0                  0.0   \n",
              "1  0.00000           0.0      0.0000                0.0                  0.0   \n",
              "2  0.00000           0.0      0.0000                0.0                  0.0   \n",
              "3  0.00000           0.0      0.0000                0.0                  0.0   \n",
              "4  0.00000           0.0      0.0000                0.0                  0.0   \n",
              "\n",
              "   Starchy_vegetables  Other_Vegetables  Fruits     Milk   Meats  Soy  \\\n",
              "0                 0.0            0.0407     0.0  0.00000  0.0000  0.0   \n",
              "1                 0.0            0.0000     0.0  0.29393  0.0000  0.0   \n",
              "2                 0.0            0.0000     0.0  0.25160  0.0962  0.0   \n",
              "3                 0.0            0.0000     0.0  0.38233  0.0000  0.0   \n",
              "4                 0.0            0.0000     0.0  0.09744  0.0000  0.0   \n",
              "\n",
              "   Drybeans_Peas  Oils  Solid_Fats  Added_Sugars  Alcohol  Saturated_Fats  \\\n",
              "0            0.0   0.0   105.64850       1.57001      0.0         7.36898   \n",
              "1            0.0   0.0   130.99968      95.20488      0.0         9.03070   \n",
              "2            0.0   0.0   213.06672      96.10340      0.0        15.28840   \n",
              "3            0.0   0.0   170.39808     123.83793      0.0        11.74670   \n",
              "4            0.0   0.0   112.32144      45.54761      0.0         9.58720   \n",
              "\n",
              "  Calories  \n",
              "0     High  \n",
              "1     High  \n",
              "2     High  \n",
              "3     High  \n",
              "4     High  "
            ]
          },
          "metadata": {}
        }
      ],
      "execution_count": 34,
      "metadata": {}
    },
    {
      "cell_type": "code",
      "source": [
        "# Splitting data.\n",
        "split = 25\n",
        "random_idx = np.random.permutation(len(ml_pipeline_data))\n",
        "test_size = int(len(ml_pipeline_data) * (split/100))\n",
        "test_idx = random_idx[:test_size]\n",
        "train_idx = random_idx[test_size:]\n",
        "train_set = ml_pipeline_data.loc[train_idx]\n",
        "test_set = ml_pipeline_data.loc[test_idx]\n",
        "\n",
        "# Dropping the dependent variable in the training and testing data \n",
        "# and creating label vector using it.\n",
        "# x - Predictor, y - Label.\n",
        "tr_x = train_set.drop(label, axis=1)\n",
        "tr_y = train_set[label]\n",
        "ts_x = test_set.drop(label, axis=1)\n",
        "ts_y = test_set[label].values\n",
        "\n",
        "numeric_pipeline = Pipeline(steps=[\n",
        "                    ('scaler', MinMaxScaler())])\n",
        "\n",
        "# Transforming the dataset.\n",
        "tr_x = numeric_pipeline.fit_transform(tr_x)\n",
        "ts_x = numeric_pipeline.transform(ts_x)\n",
        "\n",
        "# Rows of data in the training and testing set after transformation.\n",
        "print(\"\\nTraining Predictor Shape: {0}\".format(tr_x.shape))\n",
        "print(\"Testing Predictor Shape: {0}\".format(ts_x.shape))\n",
        "\n",
        "tr_y = np.asarray(tr_y)\n",
        "tr_y = tr_y.reshape(-1,1)\n",
        "\n",
        "print(\"\\nTraining Label Shape: {0}\".format(tr_y.shape))\n",
        "print(\"Testing Label Shape: {0}\".format(ts_y.shape))"
      ],
      "outputs": [
        {
          "output_type": "stream",
          "name": "stdout",
          "text": [
            "\n",
            "Training Predictor Shape: (1511, 17)\n",
            "Testing Predictor Shape: (503, 17)\n",
            "\n",
            "Training Label Shape: (1511, 1)\n",
            "Testing Label Shape: (503, 1)\n"
          ]
        }
      ],
      "execution_count": 35,
      "metadata": {}
    },
    {
      "cell_type": "markdown",
      "source": [
        "#### Applying Random Forest Classifier."
      ],
      "metadata": {}
    },
    {
      "cell_type": "code",
      "source": [
        "rf = RandomForestClassifier()\n",
        "rf.fit(tr_x, tr_y)"
      ],
      "outputs": [
        {
          "output_type": "stream",
          "name": "stderr",
          "text": [
            "/Users/ashimamunjal/anaconda3/lib/python3.7/site-packages/sklearn/ensemble/forest.py:245: FutureWarning: The default value of n_estimators will change from 10 in version 0.20 to 100 in 0.22.\n",
            "  \"10 in version 0.20 to 100 in 0.22.\", FutureWarning)\n",
            "/Users/ashimamunjal/anaconda3/lib/python3.7/site-packages/ipykernel_launcher.py:2: DataConversionWarning: A column-vector y was passed when a 1d array was expected. Please change the shape of y to (n_samples,), for example using ravel().\n",
            "  \n"
          ]
        },
        {
          "output_type": "execute_result",
          "execution_count": 36,
          "data": {
            "text/plain": [
              "RandomForestClassifier(bootstrap=True, class_weight=None, criterion='gini',\n",
              "                       max_depth=None, max_features='auto', max_leaf_nodes=None,\n",
              "                       min_impurity_decrease=0.0, min_impurity_split=None,\n",
              "                       min_samples_leaf=1, min_samples_split=2,\n",
              "                       min_weight_fraction_leaf=0.0, n_estimators=10,\n",
              "                       n_jobs=None, oob_score=False, random_state=None,\n",
              "                       verbose=0, warm_start=False)"
            ]
          },
          "metadata": {}
        }
      ],
      "execution_count": 36,
      "metadata": {}
    },
    {
      "cell_type": "markdown",
      "source": [
        "#### Predicting the results."
      ],
      "metadata": {}
    },
    {
      "cell_type": "code",
      "source": [
        "prediction_rf = rf.predict(ts_x)"
      ],
      "outputs": [],
      "execution_count": 37,
      "metadata": {}
    },
    {
      "cell_type": "markdown",
      "source": [
        "#### Evaluating the model."
      ],
      "metadata": {}
    },
    {
      "cell_type": "code",
      "source": [
        "cm = confusion_matrix(ts_y, prediction_rf)\n",
        "print('Confusion Matrix:\\n', cm)\n",
        "print('\\nClassification Report:\\n', classification_report(ts_y, prediction_rf))\n"
      ],
      "outputs": [
        {
          "output_type": "stream",
          "name": "stdout",
          "text": [
            "Confusion Matrix:\n",
            " [[262   4  16]\n",
            " [  1  79  16]\n",
            " [ 22  13  90]]\n",
            "\n",
            "Classification Report:\n",
            "               precision    recall  f1-score   support\n",
            "\n",
            "        High       0.92      0.93      0.92       282\n",
            "         Low       0.82      0.82      0.82        96\n",
            "      Medium       0.74      0.72      0.73       125\n",
            "\n",
            "    accuracy                           0.86       503\n",
            "   macro avg       0.83      0.82      0.83       503\n",
            "weighted avg       0.86      0.86      0.86       503\n",
            "\n"
          ]
        }
      ],
      "execution_count": 38,
      "metadata": {}
    },
    {
      "cell_type": "code",
      "source": [
        "sns.heatmap(cm, cmap=\"YlGnBu\", annot=True, fmt=\"d\")"
      ],
      "outputs": [
        {
          "output_type": "execute_result",
          "execution_count": 39,
          "data": {
            "text/plain": [
              "<matplotlib.axes._subplots.AxesSubplot at 0x1c1eaa0978>"
            ]
          },
          "metadata": {}
        },
        {
          "output_type": "display_data",
          "data": {
            "image/png": "[encoded data removed]",
            "text/plain": [
              "<Figure size 800x600 with 2 Axes>"
            ]
          },
          "metadata": {}
        }
      ],
      "execution_count": 39,
      "metadata": {}
    }
  ],
  "metadata": {
    "kernelspec": {
      "name": "python3",
      "language": "python",
      "display_name": "Python 3"
    },
    "language_info": {
      "name": "python",
      "version": "3.7.3",
      "mimetype": "text/x-python",
      "codemirror_mode": {
        "name": "ipython",
        "version": 3
      },
      "pygments_lexer": "ipython3",
      "nbconvert_exporter": "python",
      "file_extension": ".py"
    },
    "kernel_info": {
      "name": "python3"
    },
    "nteract": {
      "version": "0.15.0"
    }
  },
  "nbformat": 4,
  "nbformat_minor": 2
}